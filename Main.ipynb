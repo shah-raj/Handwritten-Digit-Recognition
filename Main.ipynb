{
 "cells": [
  {
   "cell_type": "code",
   "execution_count": 4,
   "metadata": {},
   "outputs": [],
   "source": [
    "import tflearn\n",
    "import tensorflow as tf\n",
    "import pandas as pd\n",
    "import numpy as np\n",
    "import os\n",
    "import cv2\n",
    "from tflearn.layers.conv import conv_2d,max_pool_2d\n",
    "from tflearn.layers.core import input_data,fully_connected,dropout\n",
    "from tflearn.layers.estimator import regression\n",
    "import matplotlib.pyplot as plt"
   ]
  },
  {
   "cell_type": "code",
   "execution_count": 5,
   "metadata": {},
   "outputs": [],
   "source": [
    "digits = pd.read_csv('/home/rajjjj/Downloads/mnist_train.csv')\n",
    "digits_test = pd.read_csv('/home/rajjjj/Downloads/mnist_test.csv')"
   ]
  },
  {
   "cell_type": "code",
   "execution_count": 6,
   "metadata": {},
   "outputs": [],
   "source": [
    "#labels\n",
    "ytrain1 = digits['label']\n",
    "#features\n",
    "xtrain = digits.drop(['label'],axis=1)"
   ]
  },
  {
   "cell_type": "code",
   "execution_count": 7,
   "metadata": {},
   "outputs": [],
   "source": [
    "xtrain = xtrain.values\n",
    "ytrain1 = ytrain1.values"
   ]
  },
  {
   "cell_type": "code",
   "execution_count": 8,
   "metadata": {},
   "outputs": [],
   "source": [
    "#labels\n",
    "ytest1 = digits_test['label']\n",
    "ytest1 = ytest1.values\n",
    "#features\n",
    "xtest = digits_test.drop(['label'],axis=1)\n",
    "xtest = xtest.values"
   ]
  },
  {
   "cell_type": "code",
   "execution_count": 9,
   "metadata": {},
   "outputs": [],
   "source": [
    "ytest = []\n",
    "ytrain = []\n",
    "for i in range(len(ytest1)):\n",
    "    if(ytest1[i]==0):\n",
    "        ytest.append([1,0,0,0,0,0,0,0,0,0])\n",
    "    elif(ytest1[i]==1):\n",
    "        ytest.append([0,1,0,0,0,0,0,0,0,0])\n",
    "    elif(ytest1[i]==2):\n",
    "        ytest.append([0,0,1,0,0,0,0,0,0,0])\n",
    "    elif(ytest1[i]==3):\n",
    "        ytest.append([0,0,0,1,0,0,0,0,0,0])\n",
    "    elif(ytest1[i]==4):\n",
    "        ytest.append([0,0,0,0,1,0,0,0,0,0])\n",
    "    elif(ytest1[i]==5):\n",
    "        ytest.append([0,0,0,0,0,1,0,0,0,0])\n",
    "    elif(ytest1[i]==6):\n",
    "        ytest.append([0,0,0,0,0,0,1,0,0,0])\n",
    "    elif(ytest1[i]==7):\n",
    "        ytest.append([0,0,0,0,0,0,0,1,0,0])\n",
    "    elif(ytest1[i]==8):\n",
    "        ytest.append([0,0,0,0,0,0,0,0,1,0])\n",
    "    elif(ytest1[i]==9):\n",
    "        ytest.append([0,0,0,0,0,0,0,0,0,1])\n",
    "\n",
    "for i in range(len(ytrain1)):\n",
    "    if(ytrain1[i]==0):\n",
    "        ytrain.append([1,0,0,0,0,0,0,0,0,0])\n",
    "    elif(ytrain1[i]==1):\n",
    "        ytrain.append([0,1,0,0,0,0,0,0,0,0])\n",
    "    elif(ytrain1[i]==2):\n",
    "        ytrain.append([0,0,1,0,0,0,0,0,0,0])\n",
    "    elif(ytrain1[i]==3):\n",
    "        ytrain.append([0,0,0,1,0,0,0,0,0,0])\n",
    "    elif(ytrain1[i]==4):\n",
    "        ytrain.append([0,0,0,0,1,0,0,0,0,0])\n",
    "    elif(ytrain1[i]==5):\n",
    "        ytrain.append([0,0,0,0,0,1,0,0,0,0])\n",
    "    elif(ytrain1[i]==6):\n",
    "        ytrain.append([0,0,0,0,0,0,1,0,0,0])\n",
    "    elif(ytrain1[i]==7):\n",
    "        ytrain.append([0,0,0,0,0,0,0,1,0,0])\n",
    "    elif(ytrain1[i]==8):\n",
    "        ytrain.append([0,0,0,0,0,0,0,0,1,0])\n",
    "    elif(ytrain1[i]==9):\n",
    "        ytrain.append([0,0,0,0,0,0,0,0,0,1])"
   ]
  },
  {
   "cell_type": "code",
   "execution_count": 10,
   "metadata": {},
   "outputs": [],
   "source": [
    "ytest = np.array(ytest)\n",
    "ytrain = np.array(ytrain)"
   ]
  },
  {
   "cell_type": "code",
   "execution_count": 11,
   "metadata": {},
   "outputs": [],
   "source": [
    "xtest = xtest.reshape(-1,28,28,1)\n",
    "# xtrain = xtrain.reshape(-1,28,28,1)\n",
    "# ytest = ytest.reshape(-1,1)\n",
    "# ytrain = ytrain.reshape(-1,1)\n",
    "# ytrain.shape"
   ]
  },
  {
   "cell_type": "code",
   "execution_count": 12,
   "metadata": {},
   "outputs": [
    {
     "name": "stdout",
     "output_type": "stream",
     "text": [
      "WARNING:tensorflow:From /home/rajjjj/anaconda3/envs/my_env/lib/python3.6/site-packages/tflearn/initializations.py:119: UniformUnitScaling.__init__ (from tensorflow.python.ops.init_ops) is deprecated and will be removed in a future version.\n",
      "Instructions for updating:\n",
      "Use tf.initializers.variance_scaling instead with distribution=uniform to get equivalent behavior.\n",
      "WARNING:tensorflow:From /home/rajjjj/anaconda3/envs/my_env/lib/python3.6/site-packages/tflearn/layers/core.py:239: calling dropout (from tensorflow.python.ops.nn_ops) with keep_prob is deprecated and will be removed in a future version.\n",
      "Instructions for updating:\n",
      "Please use `rate` instead of `keep_prob`. Rate should be set to `rate = 1 - keep_prob`.\n"
     ]
    }
   ],
   "source": [
    "#input layer\n",
    "cnet=input_data(shape=[None,28,28,1],name='input')\n",
    "\n",
    "#1st layer\n",
    "cnet=conv_2d(cnet,26,3,regularizer='L1')\n",
    "\n",
    "cnet=max_pool_2d(cnet,3)\n",
    "\n",
    "#2nd layer\n",
    "cnet=conv_2d(cnet,24,3,regularizer='L1')\n",
    "\n",
    "cnet=max_pool_2d(cnet,3)\n",
    "\n",
    "#3rd layer\n",
    "cnet=conv_2d(cnet,22,3,regularizer='L1')\n",
    "\n",
    "cnet=max_pool_2d(cnet,3)\n",
    "#4th layer\n",
    "\n",
    "\n",
    "cnet=conv_2d(cnet,20,3,regularizer='L1')\n",
    "\n",
    "cnet=max_pool_2d(cnet,3)\n",
    "\n",
    "#fully\n",
    "cnet=fully_connected(cnet,324)\n",
    "#dropout\n",
    "cnet=dropout(cnet,keep_prob=0.6)\n",
    "# output\n",
    "cnet=fully_connected(cnet,10,activation='softmax')"
   ]
  },
  {
   "cell_type": "code",
   "execution_count": 13,
   "metadata": {},
   "outputs": [
    {
     "name": "stdout",
     "output_type": "stream",
     "text": [
      "WARNING:tensorflow:From /home/rajjjj/anaconda3/envs/my_env/lib/python3.6/site-packages/tflearn/objectives.py:66: calling reduce_sum_v1 (from tensorflow.python.ops.math_ops) with keep_dims is deprecated and will be removed in a future version.\n",
      "Instructions for updating:\n",
      "keep_dims is deprecated, use keepdims instead\n"
     ]
    }
   ],
   "source": [
    "cnet=regression(cnet,optimizer='adam',loss='categorical_crossentropy',name='output',learning_rate=0.0003)"
   ]
  },
  {
   "cell_type": "code",
   "execution_count": 14,
   "metadata": {},
   "outputs": [
    {
     "name": "stdout",
     "output_type": "stream",
     "text": [
      "WARNING:tensorflow:From /home/rajjjj/anaconda3/envs/my_env/lib/python3.6/site-packages/tensorflow/python/ops/math_ops.py:3066: to_int32 (from tensorflow.python.ops.math_ops) is deprecated and will be removed in a future version.\n",
      "Instructions for updating:\n",
      "Use tf.cast instead.\n"
     ]
    }
   ],
   "source": [
    "cnmodel = tflearn.DNN(cnet)"
   ]
  },
  {
   "cell_type": "code",
   "execution_count": 15,
   "metadata": {},
   "outputs": [
    {
     "name": "stdout",
     "output_type": "stream",
     "text": [
      "WARNING:tensorflow:From /home/rajjjj/anaconda3/envs/my_env/lib/python3.6/site-packages/tensorflow/python/training/saver.py:1266: checkpoint_exists (from tensorflow.python.training.checkpoint_management) is deprecated and will be removed in a future version.\n",
      "Instructions for updating:\n",
      "Use standard file APIs to check for files with this prefix.\n",
      "INFO:tensorflow:Restoring parameters from /home/rajjjj/digits.tf1\n"
     ]
    }
   ],
   "source": [
    "cnmodel.load('digits.tf1')"
   ]
  },
  {
   "cell_type": "code",
   "execution_count": 139,
   "metadata": {},
   "outputs": [],
   "source": [
    "import cv2\n",
    "from keras.preprocessing.image import ImageDataGenerator,array_to_img,img_to_array,load_img\n",
    "# img = load_img('image.jpg')\n",
    "f = cv2.imread('image.png',0)\n",
    "f = cv2.resize(f,(28,28))"
   ]
  },
  {
   "cell_type": "code",
   "execution_count": 140,
   "metadata": {},
   "outputs": [],
   "source": [
    "from skimage import color\n",
    "from skimage import io\n",
    "\n",
    "# f = color.rgb2gray(io.imread('image.jpg',0))\n",
    "for i in range(len(f)):\n",
    "    for j in range(len(f[i])):\n",
    "        f[i][j] = abs(255-f[i][j])\n"
   ]
  },
  {
   "cell_type": "code",
   "execution_count": 141,
   "metadata": {},
   "outputs": [
    {
     "data": {
      "text/plain": [
       "(28, 28)"
      ]
     },
     "execution_count": 141,
     "metadata": {},
     "output_type": "execute_result"
    },
    {
     "data": {
      "image/png": "[encoded data removed]",
      "text/plain": [
       "<Figure size 432x288 with 1 Axes>"
      ]
     },
     "metadata": {
      "needs_background": "light"
     },
     "output_type": "display_data"
    }
   ],
   "source": [
    "plt.imshow(f,cmap='gray')\n",
    "f.shape\n",
    "\n",
    "# plt.imshow(xtest[0].reshape(28,28))"
   ]
  },
  {
   "cell_type": "code",
   "execution_count": 142,
   "metadata": {},
   "outputs": [
    {
     "data": {
      "text/plain": [
       "(28, 28)"
      ]
     },
     "execution_count": 142,
     "metadata": {},
     "output_type": "execute_result"
    }
   ],
   "source": [
    "# f = cv2.resize(f,(28,28))\n",
    "f.shape"
   ]
  },
  {
   "cell_type": "code",
   "execution_count": 143,
   "metadata": {},
   "outputs": [],
   "source": [
    "x=f.reshape(1,28,28,1)"
   ]
  },
  {
   "cell_type": "code",
   "execution_count": 144,
   "metadata": {},
   "outputs": [
    {
     "data": {
      "text/plain": [
       "6"
      ]
     },
     "execution_count": 144,
     "metadata": {},
     "output_type": "execute_result"
    }
   ],
   "source": [
    "np.argmax(cnmodel.predict(x))\n",
    "# xtest[104]\n",
    "#(xtest[104].reshape(1,28,28,1))"
   ]
  },
  {
   "cell_type": "code",
   "execution_count": null,
   "metadata": {},
   "outputs": [],
   "source": []
  },
  {
   "cell_type": "code",
   "execution_count": 131,
   "metadata": {},
   "outputs": [
    {
     "data": {
      "text/plain": [
       "(60000, 784)"
      ]
     },
     "execution_count": 131,
     "metadata": {},
     "output_type": "execute_result"
    }
   ],
   "source": [
    "xtrain.shape"
   ]
  },
  {
   "cell_type": "code",
   "execution_count": 132,
   "metadata": {},
   "outputs": [],
   "source": [
    "import tkinter as tk\n",
    "import PIL\n",
    "from PIL import Image, ImageDraw\n",
    "class ImageGenerator:\n",
    "    def __init__(self,parent,posx,posy,*kwargs):\n",
    "        self.parent = parent\n",
    "        self.posx = posx\n",
    "        self.posy = posy\n",
    "        self.sizex = 200\n",
    "        self.sizey = 200\n",
    "        self.b1 = \"up\"\n",
    "        self.xold = None\n",
    "        self.yold = None \n",
    "        #self.lbl3=Label(self, text='Result')\n",
    "        self.drawing_area=tk.Canvas(self.parent,width=self.sizex,height=self.sizey)\n",
    "        self.drawing_area.place(x=self.posx,y=self.posy)\n",
    "        self.drawing_area.bind(\"<Motion>\", self.motion)\n",
    "        self.drawing_area.bind(\"<ButtonPress-1>\", self.b1down)\n",
    "        self.drawing_area.bind(\"<ButtonRelease-1>\", self.b1up)\n",
    "        self.button=tk.Button(self.parent,text=\"SAVE\",width=5,bg='white',command=self.save)\n",
    "        self.button.place(x=self.sizex/7,y=self.sizey+20)\n",
    "        self.button=tk.Button(self.parent,text=\"Recognize\",width=5,bg='white')\n",
    "        self.button.place(x=(self.sizex/7)+200,y=self.sizey+20)\n",
    "        self.button1=tk.Button(self.parent,text=\"CLEAR\",width=5,bg='white',command=self.clear)\n",
    "        self.button1.place(x=(self.sizex/7)+80,y=self.sizey+20)\n",
    "\n",
    "        self.image=Image.new(\"RGB\",(200,200),(255,255,255))\n",
    "        self.draw=ImageDraw.Draw(self.image)\n",
    "\n",
    "    def save(self):\n",
    "        filename = \"image.jpg\"\n",
    "        self.image.save(filename)\n",
    "\n",
    "    def clear(self):\n",
    "        self.drawing_area.delete(\"all\")\n",
    "        self.image=Image.new(\"RGB\",(200,200),(255,255,255))\n",
    "        self.draw=ImageDraw.Draw(self.image)\n",
    "\n",
    "    def b1down(self,event):\n",
    "        self.b1 = \"down\"\n",
    "\n",
    "    def b1up(self,event):\n",
    "        self.b1 = \"up\"\n",
    "        self.xold = None\n",
    "        self.yold = None\n",
    "\n",
    "    def motion(self,event):\n",
    "        if self.b1 == \"down\":\n",
    "            if self.xold is not None and self.yold is not None:\n",
    "                event.widget.create_line(self.xold,self.yold,event.x,event.y,smooth='true',width=8,fill='black')\n",
    "                self.draw.line(((self.xold,self.yold),(event.x,event.y)),(0,0,0),width=8)\n",
    "\n",
    "        self.xold = event.x\n",
    "        self.yold = event.y\n",
    "\n",
    "if __name__ == \"__main__\":\n",
    "    root=tk.Tk()\n",
    "    root.wm_geometry(\"%dx%d+%d+%d\" % (400, 400, 10, 10))\n",
    "    root.config(bg='white')\n",
    "    ImageGenerator(root,10,10)\n",
    "    root.mainloop()"
   ]
  },
  {
   "cell_type": "code",
   "execution_count": 135,
   "metadata": {},
   "outputs": [],
   "source": [
    "import streamlit as st\n",
    "import tkinter as tk\n",
    "from tkinter import filedialog\n",
    "\n",
    "root = tk.Tk()\n",
    "root.withdraw()\n",
    "\n",
    "file_path = filedialog.askopenfilename(master=root)\n",
    "fname = st.text_input(file_path)\n",
    "if fname != \"\":\n",
    "    st.write(\"Reading text file...\", fname)"
   ]
  },
  {
   "cell_type": "code",
   "execution_count": null,
   "metadata": {},
   "outputs": [],
   "source": []
  }
 ],
 "metadata": {
  "kernelspec": {
   "display_name": "Python 3",
   "language": "python",
   "name": "python3"
  },
  "language_info": {
   "codemirror_mode": {
    "name": "ipython",
    "version": 3
   },
   "file_extension": ".py",
   "mimetype": "text/x-python",
   "name": "python",
   "nbconvert_exporter": "python",
   "pygments_lexer": "ipython3",
   "version": "3.6.9"
  }
 },
 "nbformat": 4,
 "nbformat_minor": 2
}
